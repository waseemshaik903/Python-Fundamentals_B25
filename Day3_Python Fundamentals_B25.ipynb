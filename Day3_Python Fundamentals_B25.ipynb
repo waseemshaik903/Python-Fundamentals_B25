{
 "cells": [
  {
   "cell_type": "code",
   "execution_count": 16,
   "metadata": {},
   "outputs": [],
   "source": [
    "#Introduction to f strings\n",
    "first_name=\"kiran\"\n",
    "last_name=\"kumar\""
   ]
  },
  {
   "cell_type": "code",
   "execution_count": 24,
   "metadata": {},
   "outputs": [
    {
     "name": "stdout",
     "output_type": "stream",
     "text": [
      "kirankumar\n"
     ]
    }
   ],
   "source": [
    "#req to get the full name\n",
    "full_name=f\"{first_name}{last_name}\"\n",
    "print(full_name)"
   ]
  },
  {
   "cell_type": "code",
   "execution_count": 26,
   "metadata": {},
   "outputs": [
    {
     "name": "stdout",
     "output_type": "stream",
     "text": [
      " Hello,Kirankumar\n"
     ]
    }
   ],
   "source": [
    "#enhancement of the code\n",
    "full_name=f\" Hello,{first_name}{last_name}\"\n",
    "print(full_name.title())"
   ]
  },
  {
   "cell_type": "code",
   "execution_count": 28,
   "metadata": {},
   "outputs": [
    {
     "name": "stdout",
     "output_type": "stream",
     "text": [
      "fav_languages:Pythonjavarubyccocobolc++\n"
     ]
    }
   ],
   "source": [
    "#Adding white spaces to strings:\n",
    "print('fav_languages:Pythonjavarubyccocobolc++')"
   ]
  },
  {
   "cell_type": "code",
   "execution_count": 31,
   "metadata": {},
   "outputs": [
    {
     "name": "stdout",
     "output_type": "stream",
     "text": [
      "fav_languages:\n",
      "Python\n",
      "java\n",
      "ruby\n",
      "c\n",
      "cobol\n",
      "c++\n"
     ]
    }
   ],
   "source": [
    "#enhancement of the code:\n",
    "print('fav_languages:\\nPython\\njava\\nruby\\nc\\ncobol\\nc++')--->\\n=new line delimiter"
   ]
  },
  {
   "cell_type": "code",
   "execution_count": 30,
   "metadata": {},
   "outputs": [
    {
     "name": "stdout",
     "output_type": "stream",
     "text": [
      "fav_languages:\n",
      "\tPython\n",
      "\tjava\n",
      "\truby\n",
      "\tc\n",
      "\tcobol\n",
      "\tc++\n"
     ]
    }
   ],
   "source": [
    "print('fav_languages:\\n\\tPython\\n\\tjava\\n\\truby\\n\\tc\\n\\tcobol\\n\\tc++')-->\\t=tab limiter"
   ]
  },
  {
   "cell_type": "code",
   "execution_count": 32,
   "metadata": {},
   "outputs": [
    {
     "name": "stdout",
     "output_type": "stream",
     "text": [
      "Kirankumar\n"
     ]
    }
   ],
   "source": [
    "full_name=f\"{first_name}{last_name}\"\n",
    "print(full_name.title())"
   ]
  },
  {
   "cell_type": "code",
   "execution_count": null,
   "metadata": {},
   "outputs": [],
   "source": []
  }
 ],
 "metadata": {
  "kernelspec": {
   "display_name": "Python 3",
   "language": "python",
   "name": "python3"
  },
  "language_info": {
   "codemirror_mode": {
    "name": "ipython",
    "version": 3
   },
   "file_extension": ".py",
   "mimetype": "text/x-python",
   "name": "python",
   "nbconvert_exporter": "python",
   "pygments_lexer": "ipython3",
   "version": "3.7.6"
  }
 },
 "nbformat": 4,
 "nbformat_minor": 4
}
