{
 "cells": [
  {
   "cell_type": "code",
   "execution_count": 7,
   "metadata": {},
   "outputs": [],
   "source": [
    "students = ('vaibhav','sameer','neha','sakshi','manali','suraksha','kiran','akshata')\n",
    "\n",
    "#0,1,2,3,4,5,6"
   ]
  },
  {
   "cell_type": "code",
   "execution_count": 31,
   "metadata": {},
   "outputs": [
    {
     "name": "stdout",
     "output_type": "stream",
     "text": [
      "keep up the good work,vaibhav\n"
     ]
    }
   ],
   "source": [
    "print(f\"keep up the good work,{students[0]}\")"
   ]
  },
  {
   "cell_type": "code",
   "execution_count": 20,
   "metadata": {},
   "outputs": [
    {
     "name": "stdout",
     "output_type": "stream",
     "text": [
      "vaibhav\n"
     ]
    }
   ],
   "source": [
    "print(students[0])"
   ]
  },
  {
   "cell_type": "code",
   "execution_count": 26,
   "metadata": {},
   "outputs": [
    {
     "name": "stdout",
     "output_type": "stream",
     "text": [
      "vaibhav\n",
      "sameer\n",
      "neha\n",
      "sakshi\n",
      "manali\n",
      "suraksha\n",
      "kiran\n",
      "akshata\n"
     ]
    }
   ],
   "source": [
    "#x is the temporary variable of students the main varaiable\n",
    "for x in students:\n",
    "    print(x)"
   ]
  },
  {
   "cell_type": "code",
   "execution_count": 32,
   "metadata": {},
   "outputs": [
    {
     "name": "stdout",
     "output_type": "stream",
     "text": [
      "keep up the good work ,vaibhav\n",
      "keep up the good work ,sameer\n",
      "keep up the good work ,neha\n",
      "keep up the good work ,sakshi\n",
      "keep up the good work ,manali\n",
      "keep up the good work ,suraksha\n",
      "keep up the good work ,kiran\n",
      "keep up the good work ,akshata\n"
     ]
    }
   ],
   "source": [
    "#Enhancement of code\n",
    "for x in students:\n",
    "    print(f\"keep up the good work ,{x}\")"
   ]
  },
  {
   "cell_type": "code",
   "execution_count": 33,
   "metadata": {},
   "outputs": [
    {
     "name": "stdout",
     "output_type": "stream",
     "text": [
      "keep up the good work ,vaibhav\n",
      "i will be looking forward to receive your file of today,vaibhav\n",
      "keep up the good work ,sameer\n",
      "i will be looking forward to receive your file of today,sameer\n",
      "keep up the good work ,neha\n",
      "i will be looking forward to receive your file of today,neha\n",
      "keep up the good work ,sakshi\n",
      "i will be looking forward to receive your file of today,sakshi\n",
      "keep up the good work ,manali\n",
      "i will be looking forward to receive your file of today,manali\n",
      "keep up the good work ,suraksha\n",
      "i will be looking forward to receive your file of today,suraksha\n",
      "keep up the good work ,kiran\n",
      "i will be looking forward to receive your file of today,kiran\n",
      "keep up the good work ,akshata\n",
      "i will be looking forward to receive your file of today,akshata\n"
     ]
    }
   ],
   "source": [
    "#req: Further Enhancement\n",
    "for x in students:\n",
    "    print(f\"keep up the good work ,{x}\")\n",
    "    print(f\"i will be looking forward to receive your file of today,{x}\")"
   ]
  },
  {
   "cell_type": "code",
   "execution_count": 34,
   "metadata": {},
   "outputs": [
    {
     "name": "stdout",
     "output_type": "stream",
     "text": [
      "keep up the good work ,vaibhav\n",
      "i will be looking forward to receive your file of today,vaibhav\n",
      "\n",
      "keep up the good work ,sameer\n",
      "i will be looking forward to receive your file of today,sameer\n",
      "\n",
      "keep up the good work ,neha\n",
      "i will be looking forward to receive your file of today,neha\n",
      "\n",
      "keep up the good work ,sakshi\n",
      "i will be looking forward to receive your file of today,sakshi\n",
      "\n",
      "keep up the good work ,manali\n",
      "i will be looking forward to receive your file of today,manali\n",
      "\n",
      "keep up the good work ,suraksha\n",
      "i will be looking forward to receive your file of today,suraksha\n",
      "\n",
      "keep up the good work ,kiran\n",
      "i will be looking forward to receive your file of today,kiran\n",
      "\n",
      "keep up the good work ,akshata\n",
      "i will be looking forward to receive your file of today,akshata\n",
      "\n"
     ]
    }
   ],
   "source": [
    "for x in students:\n",
    "    print(f\"keep up the good work ,{x}\")\n",
    "    print(f\"i will be looking forward to receive your file of today,{x}\\n\")"
   ]
  },
  {
   "cell_type": "code",
   "execution_count": 37,
   "metadata": {},
   "outputs": [
    {
     "name": "stdout",
     "output_type": "stream",
     "text": [
      "keep up the good work ,vaibhav\n",
      "i will be looking forward to receive your file of today,vaibhav\n",
      "\t\n",
      "keep up the good work ,sameer\n",
      "i will be looking forward to receive your file of today,sameer\n",
      "\t\n",
      "keep up the good work ,neha\n",
      "i will be looking forward to receive your file of today,neha\n",
      "\t\n",
      "keep up the good work ,sakshi\n",
      "i will be looking forward to receive your file of today,sakshi\n",
      "\t\n",
      "keep up the good work ,manali\n",
      "i will be looking forward to receive your file of today,manali\n",
      "\t\n",
      "keep up the good work ,suraksha\n",
      "i will be looking forward to receive your file of today,suraksha\n",
      "\t\n",
      "keep up the good work ,kiran\n",
      "i will be looking forward to receive your file of today,kiran\n",
      "\t\n",
      "keep up the good work ,akshata\n",
      "i will be looking forward to receive your file of today,akshata\n",
      "\t\n",
      "Thank You all for showing interest in learning python\n"
     ]
    }
   ],
   "source": [
    "for x in students:\n",
    "    print(f\"keep up the good work ,{x}\")\n",
    "    print(f\"i will be looking forward to receive your file of today,{x}\\n\")\n",
    "    \n",
    "print(\"Thank You all for showing interest in learning python\")"
   ]
  },
  {
   "cell_type": "code",
   "execution_count": null,
   "metadata": {},
   "outputs": [],
   "source": []
  }
 ],
 "metadata": {
  "kernelspec": {
   "display_name": "Python 3",
   "language": "python",
   "name": "python3"
  },
  "language_info": {
   "codemirror_mode": {
    "name": "ipython",
    "version": 3
   },
   "file_extension": ".py",
   "mimetype": "text/x-python",
   "name": "python",
   "nbconvert_exporter": "python",
   "pygments_lexer": "ipython3",
   "version": "3.7.6"
  }
 },
 "nbformat": 4,
 "nbformat_minor": 4
}
